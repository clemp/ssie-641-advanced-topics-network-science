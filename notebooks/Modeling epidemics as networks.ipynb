{
 "cells": [
  {
   "cell_type": "code",
   "execution_count": 1,
   "id": "c2f4c526",
   "metadata": {},
   "outputs": [],
   "source": [
    "import networkx as nx\n",
    "import numpy as np\n",
    "import random\n",
    "\n",
    "import matplotlib.pyplot as plt\n",
    "%matplotlib inline"
   ]
  },
  {
   "cell_type": "markdown",
   "id": "6bd91621",
   "metadata": {},
   "source": [
    "## Modeling epidemics as networks\n",
    "\n",
    "Exploring concepts from [Epidemic spreading in scale-free networks](https://arxiv.org/pdf/cond-mat/0010317)\n",
    "\n",
    "\n",
    "Compare a random network and a scale-free network with similar network topology (average number of edges per node)\n"
   ]
  },
  {
   "cell_type": "code",
   "execution_count": 2,
   "id": "2d9331f7",
   "metadata": {},
   "outputs": [],
   "source": [
    "# Define the network the infection will spread on\n",
    "NUM_NODES = 2000\n",
    "NUM_EDGES = 2\n",
    "global G\n",
    "G = nx.erdos_renyi_graph(NUM_NODES, (1 / NUM_NODES)) # random network\n",
    "G = nx.barabasi_albert_graph(NUM_NODES, NUM_EDGES) # scale-free network\n",
    "\n",
    "# Initialize state variables\n",
    "# Susceptible = 0\n",
    "# Infected = 1\n",
    "# Recovered = 2\n",
    "S, I, R = range(3)\n",
    "\n",
    "# Define color choices for states\n",
    "c = {\n",
    "    S: \"y\",\n",
    "    I: \"r\",\n",
    "    R: \"g\"\n",
    "}"
   ]
  },
  {
   "cell_type": "code",
   "execution_count": 3,
   "id": "52961e0c",
   "metadata": {},
   "outputs": [],
   "source": [
    "def initialize():\n",
    "    for i in G.nodes():\n",
    "        G.nodes[i][\"state\"] = S # all nodes susceptible\n",
    "    # infect a single, specific node\n",
    "    G.nodes[0][\"state\"] = I"
   ]
  },
  {
   "cell_type": "code",
   "execution_count": null,
   "id": "29913103",
   "metadata": {},
   "outputs": [],
   "source": [
    "initialize()"
   ]
  },
  {
   "cell_type": "code",
   "execution_count": 4,
   "id": "4aa20fd8",
   "metadata": {},
   "outputs": [],
   "source": [
    "def observe():\n",
    "    nx.draw_networkx(G, \n",
    "        node_color=[c[G.nodes[i][\"state\"]] for i in G.nodes()],\n",
    "        pos=G.graph[\"pos\"]\n",
    "    )"
   ]
  },
  {
   "cell_type": "code",
   "execution_count": null,
   "id": "df76b922",
   "metadata": {},
   "outputs": [],
   "source": [
    "observe()"
   ]
  },
  {
   "cell_type": "code",
   "execution_count": 5,
   "id": "51d72575",
   "metadata": {},
   "outputs": [],
   "source": [
    "def update():\n",
    "    for i in G.nodes():\n",
    "        # set default next state to be the current state\n",
    "        G.nodes[i][\"nextstate\"] = G.nodes[i][\"state\"]\n",
    "        \n",
    "        # set dynamical behavior to update states\n",
    "        if G.nodes[i][\"state\"] == S:\n",
    "            # Simulate the dynamics of S nodes\n",
    "            \n",
    "            # count number of Infected neighbors\n",
    "            n = sum(1 if G.nodes[j][\"state\"] == I else 0 for j in G.neighbors(i))\n",
    "            # Randomly Infect with some probability\n",
    "            if random.random() < 0.5 * np.log10(n+1):\n",
    "                G.nodes[i][\"nextstate\"] = I\n",
    "            \n",
    "        elif G.nodes[i][\"state\"] == I:\n",
    "            # Simulate the dynamics of I nodes\n",
    "            # Randomly Recover with some probability\n",
    "            if random.random() < 0.2:\n",
    "                G.nodes[i][\"nextstate\"] = R\n",
    "        else:\n",
    "            # Simulate the dynamics of R nodes\n",
    "            # Randomly become Susceptible again with some probability\n",
    "            if random.random() < 0.003:\n",
    "                G.nodes[i][\"nextstate\"] = S\n",
    "    \n",
    "    # Update all node states\n",
    "    for i in G.nodes():\n",
    "        G.nodes[i][\"state\"] = G.nodes[i][\"nextstate\"]"
   ]
  },
  {
   "cell_type": "markdown",
   "id": "4b23065c",
   "metadata": {},
   "source": [
    "## Run the simulation"
   ]
  },
  {
   "cell_type": "code",
   "execution_count": 14,
   "id": "2942b435",
   "metadata": {},
   "outputs": [],
   "source": [
    "initialize()\n",
    "\n",
    "for t in range(1):\n",
    "    update()"
   ]
  },
  {
   "cell_type": "code",
   "execution_count": 15,
   "id": "6a99e1f5",
   "metadata": {},
   "outputs": [
    {
     "name": "stdout",
     "output_type": "stream",
     "text": [
      "2\n"
     ]
    }
   ],
   "source": [
    "print(sum(1 if G.nodes[j][\"state\"] == I else 0 for j in G.nodes()))"
   ]
  },
  {
   "cell_type": "code",
   "execution_count": null,
   "id": "0ce4d8cc",
   "metadata": {},
   "outputs": [],
   "source": [
    "for i in G.nodes():\n",
    "    n = sum(1 if G.nodes[j][\"state\"] == I else 0 for j in G.neighbors(i))\n",
    "    print(\"Node \", i, \" | # Infected neighbors: \\t\", n)"
   ]
  }
 ],
 "metadata": {
  "kernelspec": {
   "display_name": "network-analysis",
   "language": "python",
   "name": "network-analysis"
  },
  "language_info": {
   "codemirror_mode": {
    "name": "ipython",
    "version": 3
   },
   "file_extension": ".py",
   "mimetype": "text/x-python",
   "name": "python",
   "nbconvert_exporter": "python",
   "pygments_lexer": "ipython3",
   "version": "3.10.6"
  }
 },
 "nbformat": 4,
 "nbformat_minor": 5
}
