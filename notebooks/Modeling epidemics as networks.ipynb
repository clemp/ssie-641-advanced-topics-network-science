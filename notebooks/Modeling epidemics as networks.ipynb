{
 "cells": [
  {
   "cell_type": "code",
   "execution_count": 1,
   "id": "f90f9bdd",
   "metadata": {},
   "outputs": [],
   "source": [
    "import networkx as nx\n",
    "import numpy as np\n",
    "import random\n",
    "\n",
    "import matplotlib.pyplot as plt\n",
    "%matplotlib inline"
   ]
  },
  {
   "cell_type": "markdown",
   "id": "1b9169eb",
   "metadata": {},
   "source": [
    "## Modeling epidemics as networks\n",
    "\n",
    "Exploring concepts from [Epidemic spreading in scale-free networks](https://arxiv.org/pdf/cond-mat/0010317)\n",
    "\n",
    "\n",
    "Compare a random network and a scale-free network with similar network topology (average number of edges per node)\n"
   ]
  },
  {
   "cell_type": "code",
   "execution_count": 18,
   "id": "4ea8fa1e",
   "metadata": {},
   "outputs": [],
   "source": [
    "# Define the network the infection will spread on\n",
    "NUM_NODES = 2000\n",
    "NUM_EDGES = 2\n",
    "global G\n",
    "\n",
    "# Initialize state variables\n",
    "# Susceptible = 0\n",
    "# Infected = 1\n",
    "# Recovered = 2\n",
    "S, I, R = range(3)\n",
    "\n",
    "# Define color choices for states\n",
    "c = {\n",
    "    S: \"y\",\n",
    "    I: \"r\",\n",
    "    R: \"g\"\n",
    "}"
   ]
  },
  {
   "cell_type": "code",
   "execution_count": 19,
   "id": "4ecb883e",
   "metadata": {},
   "outputs": [],
   "source": [
    "def initialize():\n",
    "    G = nx.erdos_renyi_graph(NUM_NODES, (1 / NUM_NODES)) # random network\n",
    "    # G = nx.barabasi_albert_graph(NUM_NODES, NUM_EDGES) # scale-free network\n",
    "\n",
    "    for i in G.nodes():\n",
    "        G.nodes[i][\"state\"] = I if random.random() < 0.01 else S"
   ]
  },
  {
   "cell_type": "code",
   "execution_count": 17,
   "id": "6af0a10f",
   "metadata": {},
   "outputs": [],
   "source": [
    "initialize()"
   ]
  },
  {
   "cell_type": "code",
   "execution_count": 4,
   "id": "4de80930",
   "metadata": {},
   "outputs": [],
   "source": [
    "def observe():\n",
    "    nx.draw_networkx(G, \n",
    "        node_color=[c[G.nodes[i][\"state\"]] for i in G.nodes()],\n",
    "        pos=G.graph[\"pos\"]\n",
    "    )"
   ]
  },
  {
   "cell_type": "code",
   "execution_count": null,
   "id": "57e99727",
   "metadata": {},
   "outputs": [],
   "source": [
    "observe()"
   ]
  },
  {
   "cell_type": "code",
   "execution_count": 5,
   "id": "affe2087",
   "metadata": {},
   "outputs": [],
   "source": [
    "def update():\n",
    "    for i in G.nodes():\n",
    "        # set default next state to be the current state\n",
    "        G.nodes[i][\"nextstate\"] = G.nodes[i][\"state\"]\n",
    "        \n",
    "        # set dynamical behavior to update states\n",
    "        if G.nodes[i][\"state\"] == S:\n",
    "            # Simulate the dynamics of S nodes\n",
    "            \n",
    "            # count number of Infected neighbors\n",
    "            n = sum(1 if G.nodes[j][\"state\"] == I else 0 for j in G.neighbors(i))\n",
    "            # Randomly Infect with some probability\n",
    "            if random.random() < 0.5 * np.log10(n+1):\n",
    "                G.nodes[i][\"nextstate\"] = I\n",
    "            \n",
    "        elif G.nodes[i][\"state\"] == I:\n",
    "            # Simulate the dynamics of I nodes\n",
    "            # Randomly Recover with some probability\n",
    "            if random.random() < 0.2:\n",
    "                G.nodes[i][\"nextstate\"] = R\n",
    "        else:\n",
    "            # Simulate the dynamics of R nodes\n",
    "            # Randomly become Susceptible again with some probability\n",
    "            if random.random() < 0.003:\n",
    "                G.nodes[i][\"nextstate\"] = S\n",
    "    \n",
    "    # Update all node states\n",
    "    for i in G.nodes():\n",
    "        G.nodes[i][\"state\"] = G.nodes[i][\"nextstate\"]"
   ]
  },
  {
   "cell_type": "markdown",
   "id": "d7dda0e9",
   "metadata": {},
   "source": [
    "## Run the simulation"
   ]
  },
  {
   "cell_type": "code",
   "execution_count": 22,
   "id": "d4b711ba",
   "metadata": {},
   "outputs": [],
   "source": [
    "initialize()\n",
    "\n",
    "for t in range(14):\n",
    "    update()"
   ]
  },
  {
   "cell_type": "code",
   "execution_count": 23,
   "id": "371bd008",
   "metadata": {},
   "outputs": [
    {
     "name": "stdout",
     "output_type": "stream",
     "text": [
      "7\n"
     ]
    }
   ],
   "source": [
    "print(sum(1 if G.nodes[j][\"state\"] == I else 0 for j in G.nodes()))"
   ]
  },
  {
   "cell_type": "code",
   "execution_count": null,
   "id": "2ac3a286",
   "metadata": {},
   "outputs": [],
   "source": [
    "for i in G.nodes():\n",
    "    n = sum(1 if G.nodes[j][\"state\"] == I else 0 for j in G.neighbors(i))\n",
    "    print(\"Node \", i, \" | # Infected neighbors: \\t\", n)"
   ]
  }
 ],
 "metadata": {
  "kernelspec": {
   "display_name": "network-analysis",
   "language": "python",
   "name": "network-analysis"
  },
  "language_info": {
   "codemirror_mode": {
    "name": "ipython",
    "version": 3
   },
   "file_extension": ".py",
   "mimetype": "text/x-python",
   "name": "python",
   "nbconvert_exporter": "python",
   "pygments_lexer": "ipython3",
   "version": "3.10.6"
  }
 },
 "nbformat": 4,
 "nbformat_minor": 5
}
